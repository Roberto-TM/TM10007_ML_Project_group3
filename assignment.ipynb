{
  "cells": [
    {
      "cell_type": "markdown",
      "metadata": {
        "id": "7SXpaKwwGe5x"
      },
      "source": [
        "# TM10007 Assignment"
      ]
    },
    {
      "cell_type": "code",
      "execution_count": 1,
      "metadata": {
        "colab": {
          "base_uri": "https://localhost:8080/"
        },
        "id": "CiDn2Sk-VWqE",
        "outputId": "96448800-57f5-4715-e67e-2814b0078b8a"
      },
      "outputs": [
        {
          "output_type": "stream",
          "name": "stdout",
          "text": [
            "  Preparing metadata (setup.py) ... \u001b[?25l\u001b[?25hdone\n",
            "\u001b[2K   \u001b[90m━━━━━━━━━━━━━━━━━━━━━━━━━━━━━━━━━━━━━━━━\u001b[0m \u001b[32m363.4/363.4 MB\u001b[0m \u001b[31m4.1 MB/s\u001b[0m eta \u001b[36m0:00:00\u001b[0m\n",
            "\u001b[2K   \u001b[90m━━━━━━━━━━━━━━━━━━━━━━━━━━━━━━━━━━━━━━━━\u001b[0m \u001b[32m13.8/13.8 MB\u001b[0m \u001b[31m45.9 MB/s\u001b[0m eta \u001b[36m0:00:00\u001b[0m\n",
            "\u001b[2K   \u001b[90m━━━━━━━━━━━━━━━━━━━━━━━━━━━━━━━━━━━━━━━━\u001b[0m \u001b[32m24.6/24.6 MB\u001b[0m \u001b[31m49.7 MB/s\u001b[0m eta \u001b[36m0:00:00\u001b[0m\n",
            "\u001b[2K   \u001b[90m━━━━━━━━━━━━━━━━━━━━━━━━━━━━━━━━━━━━━━━━\u001b[0m \u001b[32m883.7/883.7 kB\u001b[0m \u001b[31m36.6 MB/s\u001b[0m eta \u001b[36m0:00:00\u001b[0m\n",
            "\u001b[2K   \u001b[90m━━━━━━━━━━━━━━━━━━━━━━━━━━━━━━━━━━━━━━━━\u001b[0m \u001b[32m664.8/664.8 MB\u001b[0m \u001b[31m2.6 MB/s\u001b[0m eta \u001b[36m0:00:00\u001b[0m\n",
            "\u001b[2K   \u001b[90m━━━━━━━━━━━━━━━━━━━━━━━━━━━━━━━━━━━━━━━━\u001b[0m \u001b[32m211.5/211.5 MB\u001b[0m \u001b[31m5.5 MB/s\u001b[0m eta \u001b[36m0:00:00\u001b[0m\n",
            "\u001b[2K   \u001b[90m━━━━━━━━━━━━━━━━━━━━━━━━━━━━━━━━━━━━━━━━\u001b[0m \u001b[32m56.3/56.3 MB\u001b[0m \u001b[31m13.7 MB/s\u001b[0m eta \u001b[36m0:00:00\u001b[0m\n",
            "\u001b[2K   \u001b[90m━━━━━━━━━━━━━━━━━━━━━━━━━━━━━━━━━━━━━━━━\u001b[0m \u001b[32m127.9/127.9 MB\u001b[0m \u001b[31m7.3 MB/s\u001b[0m eta \u001b[36m0:00:00\u001b[0m\n",
            "\u001b[2K   \u001b[90m━━━━━━━━━━━━━━━━━━━━━━━━━━━━━━━━━━━━━━━━\u001b[0m \u001b[32m207.5/207.5 MB\u001b[0m \u001b[31m6.5 MB/s\u001b[0m eta \u001b[36m0:00:00\u001b[0m\n",
            "\u001b[2K   \u001b[90m━━━━━━━━━━━━━━━━━━━━━━━━━━━━━━━━━━━━━━━━\u001b[0m \u001b[32m21.1/21.1 MB\u001b[0m \u001b[31m80.1 MB/s\u001b[0m eta \u001b[36m0:00:00\u001b[0m\n",
            "\u001b[?25h  Building wheel for ktml (setup.py) ... \u001b[?25l\u001b[?25hdone\n"
          ]
        }
      ],
      "source": [
        "# Run this to use from colab environment\n",
        "!pip install -q --upgrade git+https://github.com/jveenland/tm10007_ml.git"
      ]
    },
    {
      "cell_type": "markdown",
      "metadata": {
        "id": "p-9HbZdwFb33"
      },
      "source": [
        "## Data loading and cleaning\n",
        "\n",
        "Below are functions to load the dataset of your choice. After that, it is all up to you to create and evaluate a classification method. Beware, there may be missing values in these datasets. Good luck!"
      ]
    },
    {
      "cell_type": "code",
      "execution_count": null,
      "metadata": {
        "id": "VV0YLd6oHgen"
      },
      "outputs": [],
      "source": [
        "# Libraries\n",
        "import pandas as pd\n",
        "\n",
        "from worcgist.load_data import load_data"
      ]
    },
    {
      "cell_type": "code",
      "execution_count": null,
      "metadata": {
        "colab": {
          "base_uri": "https://localhost:8080/"
        },
        "id": "-NE_fTbKGe5z",
        "outputId": "54d30d21-8914-4d5b-9375-a93bf4047f12"
      },
      "outputs": [
        {
          "output_type": "stream",
          "name": "stdout",
          "text": [
            "The number of samples: 246\n",
            "The number of features: 493\n",
            "The number of datapoints: 121278\n",
            "The number of missing values: 0\n",
            "The number of zero values: 6848\n",
            "<class 'pandas.core.frame.DataFrame'>\n",
            "Index: 246 entries, GIST-001_0 to GIST-246_0\n",
            "Columns: 494 entries, label to PREDICT_original_phasef_phasesym_entropy_WL3_N5\n",
            "dtypes: float64(468), int64(26)\n",
            "memory usage: 951.3+ KB\n"
          ]
        }
      ],
      "source": [
        "# Load data\n",
        "data = load_data()\n",
        "\n",
        "data['label'] = data['label'].map({'non-GIST': 0, 'GIST': 1})\n",
        "\n",
        "y = data['label']\n",
        "x = data.drop(columns=['label'])\n",
        "\n",
        "# Calculate basic statistics\n",
        "n_samples = len(y)\n",
        "n_features = len(x.columns)\n",
        "\n",
        "n_missing = data.isna().sum().sum()\n",
        "n_zero = (data == 0).sum().sum()\n",
        "\n",
        "# Print basic statistics\n",
        "print(f'The number of samples: {n_samples}')\n",
        "print(f'The number of features: {n_features}')\n",
        "print(f'The number of datapoints: {n_samples * n_features}')\n",
        "print(f\"The number of missing values: {n_missing}\")\n",
        "print(f\"The number of zero values: {n_zero}\")\n",
        "\n",
        "data.info()\n",
        "#data.describe()\n",
        "#data.duplicated()"
      ]
    },
    {
      "cell_type": "markdown",
      "metadata": {
        "id": "58fMBhfq4yi-"
      },
      "source": [
        "## Pre-processing"
      ]
    },
    {
      "cell_type": "markdown",
      "source": [
        "### Remove constants"
      ],
      "metadata": {
        "id": "06yO0ZxJzbZj"
      }
    },
    {
      "cell_type": "code",
      "source": [
        "# Remove columns with constant values\n",
        "constant_cols = x.columns[x.nunique() <= 1] # get columns with 1 unique value or all values NaN\n",
        "x = x.drop(columns=constant_cols) # drop these columns\n",
        "\n",
        "# Remove rows with constant values\n",
        "constant_rows = x.index[x.nunique(axis=1) <= 1] # get rows with 1 unique value or all values NaN\n",
        "x_clean = x.drop(index=constant_rows) # drop these columns\n",
        "\n",
        "# Adjust y to match the remainng samples\n",
        "y_clean = y.drop(index=constant_rows)\n",
        "\n",
        "# Combine x_clean and y_clean to one DataFrame\n",
        "data_constants_removed = pd.concat([x_clean, y_clean], axis=1)\n",
        "\n",
        "# Get dimensions\n",
        "dimensions_data_constants_removed = data_constants_removed.shape\n",
        "n_samples_constants_removed, n_features_constants_removed = dimensions_data_constants_removed\n",
        "\n",
        "# Change in dimension\n",
        "samples_removed = n_samples - n_samples_constants_removed\n",
        "features_removed = n_features - n_features_constants_removed\n",
        "\n",
        "# Result\n",
        "print(f'Number of removed samples: {samples_removed}')\n",
        "print(f'Number of removed features: {features_removed}')\n",
        "print(f'Dataset without constant values: {data_constants_removed.shape}')\n",
        "\n",
        "data_constants_removed.head()"
      ],
      "metadata": {
        "id": "qIawGKsRzgS_"
      },
      "execution_count": null,
      "outputs": []
    },
    {
      "cell_type": "markdown",
      "source": [],
      "metadata": {
        "id": "qds02-iTzh0M"
      }
    },
    {
      "cell_type": "code",
      "execution_count": null,
      "metadata": {
        "colab": {
          "base_uri": "https://localhost:8080/"
        },
        "id": "qfsUlS1RFb35",
        "outputId": "05e31851-2c26-4435-8267-54d74d988713"
      },
      "outputs": [
        {
          "output_type": "stream",
          "name": "stderr",
          "text": [
            "/usr/local/lib/python3.11/dist-packages/sklearn/feature_selection/_univariate_selection.py:111: UserWarning: Features [ 77  84  90  97 103 110 467 474 475 480 487 488] are constant.\n",
            "  warnings.warn(\"Features %s are constant.\" % constant_features_idx, UserWarning)\n",
            "/usr/local/lib/python3.11/dist-packages/sklearn/feature_selection/_univariate_selection.py:112: RuntimeWarning: invalid value encountered in divide\n",
            "  f = msb / msw\n"
          ]
        }
      ],
      "source": [
        "from sklearn.feature_selection import SelectKBest, f_classif\n",
        "\n",
        "selector = SelectKBest(score_func=f_classif, k=50)  # or 50, or try multiple values\n",
        "x_reduced_array = selector.fit_transform(x, y)\n",
        "selected_feature_names = x.columns[selector.get_support()]\n",
        "x_reduced = pd.DataFrame(x_reduced_array, columns=selected_feature_names)\n",
        "#print(x_reduced.info())"
      ]
    },
    {
      "cell_type": "code",
      "execution_count": null,
      "metadata": {
        "colab": {
          "base_uri": "https://localhost:8080/"
        },
        "id": "39h_BEytwUpj",
        "outputId": "4a859621-89c2-43fc-e2fa-bc45f3ee685e"
      },
      "outputs": [
        {
          "output_type": "stream",
          "name": "stderr",
          "text": [
            "/usr/local/lib/python3.11/dist-packages/scipy/stats/_axis_nan_policy.py:573: UserWarning: scipy.stats.shapiro: Input data has range zero. The results may not be accurate.\n",
            "  res = hypotest_fun_out(*samples, **kwds)\n"
          ]
        }
      ],
      "source": [
        "from scipy.stats import shapiro\n",
        "\n",
        "def check_normal_distribution(data, alpha=0.05):\n",
        "    results = {}\n",
        "    for col in data.columns:\n",
        "        p = shapiro(data[col])[1]\n",
        "        results[col] = p > alpha\n",
        "    return pd.DataFrame([results])\n",
        "\n",
        "results = check_normal_distribution(x)\n",
        "#print(results)"
      ]
    },
    {
      "cell_type": "code",
      "source": [
        "from scipy.stats import zscore\n",
        "\n",
        "# Outlier removal based on normal-distribution assumption\n",
        "\n",
        "def replace_outliers(df, is_normal):\n",
        "    \"\"\"\n",
        "    Replace outliers in the given DataFrame based on the distribution type of each column.\n",
        "\n",
        "    Parameters:\n",
        "    df (pd.DataFrame): The input DataFrame containing numerical data.\n",
        "    is_normal (pd.Series): A Series indicating whether each column in the DataFrame is normally distributed (True) or not (False).\n",
        "\n",
        "    Returns:\n",
        "    pd.DataFrame: The DataFrame with outliers replaced by the respective bounds.\n",
        "    \"\"\"\n",
        "    threshold_nd = 0.5  # z-score threshold for normally distributed data\n",
        "    threshold_nnd = 1.5  # IQR threshold for non-normally distributed data\n",
        "    for column in df.columns:\n",
        "        if is_normal[column]:\n",
        "            # Use z-score for normally distributed columns\n",
        "            mean = df[column].mean()\n",
        "            std = df[column].std()\n",
        "            lower_bound = mean - threshold_nd * std\n",
        "            upper_bound = mean + threshold_nd * std\n",
        "            outliers = (df[column] > upper_bound) | (df[column] < lower_bound)\n",
        "            df.loc[df[column] > upper_bound, column] = upper_bound\n",
        "            df.loc[df[column] < lower_bound, column] = lower_bound\n",
        "        else:\n",
        "            # Use IQR for non-normally distributed columns\n",
        "            Q1 = df[column].quantile(0.25)\n",
        "            Q3 = df[column].quantile(0.75)\n",
        "            IQR = Q3 - Q1\n",
        "            lower_bound = Q1 - threshold_nnd * IQR\n",
        "            upper_bound = Q3 + threshold_nnd * IQR\n",
        "            outliers = (df[column] > upper_bound) | (df[column] < lower_bound)\n",
        "            df.loc[df[column] > upper_bound, column] = upper_bound\n",
        "            df.loc[df[column] < lower_bound, column] = lower_bound\n",
        "    return df\n",
        "\n",
        "df_no_outliers = replace_outliers(x, results.iloc[0])\n",
        "# print(\"Max of original data (first 5 columns):\")\n",
        "# print(x.iloc[:, :5].describe().loc['max'])\n",
        "# print(\"Max of data without outliers (first 5 columns):\")\n",
        "# print(df_no_outliers.iloc[:, :5].describe().loc['max'])"
      ],
      "metadata": {
        "id": "N1HD1S8jwd3s"
      },
      "execution_count": null,
      "outputs": []
    }
  ],
  "metadata": {
    "colab": {
      "name": "assignment.ipynb",
      "provenance": []
    },
    "kernelspec": {
      "display_name": "base",
      "language": "python",
      "name": "python3"
    },
    "language_info": {
      "codemirror_mode": {
        "name": "ipython",
        "version": 3
      },
      "file_extension": ".py",
      "mimetype": "text/x-python",
      "name": "python",
      "nbconvert_exporter": "python",
      "pygments_lexer": "ipython3",
      "version": "3.12.8"
    }
  },
  "nbformat": 4,
  "nbformat_minor": 0
}